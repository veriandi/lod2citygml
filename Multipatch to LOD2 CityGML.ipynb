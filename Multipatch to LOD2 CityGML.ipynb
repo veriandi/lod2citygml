{
 "cells": [
  {
   "cell_type": "code",
   "execution_count": 1,
   "metadata": {},
   "outputs": [],
   "source": [
    "# Import library yang diperlukan\n",
    "import shapefile as sf\n",
    "from lxml import etree\n",
    "import numpy as np\n",
    "import uuid\n",
    "import geopandas as gpd\n",
    "from shapely.geometry import Polygon"
   ]
  },
  {
   "cell_type": "code",
   "execution_count": 2,
   "metadata": {},
   "outputs": [],
   "source": [
    "# Directory multipatch bangunan LOD2 Coblong\n",
    "sfDir = '/Users/veriandi/Desktop/Projects/CityGML Coblong/Multipatch LOD2/Coblong_LOD2'"
   ]
  },
  {
   "cell_type": "code",
   "execution_count": null,
   "metadata": {},
   "outputs": [],
   "source": [
    "# Directory shapefile persil Coblong\n",
    "persilDir = '/Users/veriandi/Desktop/Projects/CityGML Coblong/Persil/persil.shp'"
   ]
  },
  {
   "cell_type": "code",
   "execution_count": 3,
   "metadata": {},
   "outputs": [],
   "source": [
    "# Membaca file persil dan memasukkannya ke dalam GeoDataFrame\n",
    "Persil = gpd.read_file(persilDir)\n",
    "persil = Persil.loc[:, ['NIB', 'geometry']]\n",
    "persil = persil.to_crs('EPSG:32748')"
   ]
  },
  {
   "cell_type": "code",
   "execution_count": 4,
   "metadata": {},
   "outputs": [],
   "source": [
    "# Membaca file multipatch LOD2\n",
    "# Ekstraksi geometri dan atribut\n",
    "sfReader = sf.Reader(sfDir)\n",
    "features = sfReader.shapes()\n",
    "attributes = sfReader.records()"
   ]
  },
  {
   "cell_type": "code",
   "execution_count": 6,
   "metadata": {},
   "outputs": [],
   "source": [
    "# Ekstraksi koordinat XY dan Z yang disimpan dalam list berbeda\n",
    "FeatXYCoords = []\n",
    "FeatZCoords = []\n",
    "for feature in features:\n",
    "    XYCoords = []\n",
    "    ZCoords = []\n",
    "    xy = feature.points\n",
    "    z = feature.z\n",
    "    for n in range(len(feature.parts)):\n",
    "        if n != len(feature.parts)-1:\n",
    "            PartXYCoords = xy[feature.parts[n]:feature.parts[n+1]]\n",
    "            PartZCoords = z[feature.parts[n]:feature.parts[n+1]]\n",
    "            XYCoords.append(PartXYCoords)\n",
    "            ZCoords.append(PartZCoords)\n",
    "        elif n == len(feature.parts)-1:\n",
    "            PartXYCoords = xy[feature.parts[n]:]\n",
    "            PartZCoords = z[feature.parts[n]:]\n",
    "            XYCoords.append(PartXYCoords)\n",
    "            ZCoords.append(PartZCoords)\n",
    "    FeatXYCoords.append(XYCoords)\n",
    "    FeatZCoords.append(ZCoords)\n",
    "    \n",
    "# Ekstraksi koordinat XY dan Z yang disimpan dalam list yang sama\n",
    "FeatXYZCoords = []\n",
    "for i, feature in enumerate(FeatXYCoords):\n",
    "    XYZFeat = []\n",
    "    for n, surface in enumerate(feature):\n",
    "        XYZSurf = []\n",
    "        for m, xy in enumerate(surface):\n",
    "            l_coord = list(xy)\n",
    "            l_coord.append(FeatZCoords[i][n][m])\n",
    "            t_coord = tuple(l_coord)\n",
    "            XYZSurf.append(t_coord)\n",
    "        XYZFeat.append(XYZSurf)\n",
    "    FeatXYZCoords.append(XYZFeat)"
   ]
  },
  {
   "cell_type": "code",
   "execution_count": 7,
   "metadata": {},
   "outputs": [],
   "source": [
    "# Restrukturasi koordinat agar dimiliki urutan koordinat yang benar\n",
    "# untuk setiap surface\n",
    "XYZCoords = []\n",
    "for i, feature in enumerate(FeatXYZCoords):\n",
    "    featCoords = []\n",
    "    for n, surface in enumerate(feature):\n",
    "        partType = features[i].partTypes[n]\n",
    "        if partType == 2 or partType == 3:\n",
    "            featCoords.append(surface)\n",
    "        elif partType == 0:\n",
    "            for m in range(len(surface)-2):\n",
    "                newSurf = [surface[m], surface[m+1], surface[m+2], surface[m]]\n",
    "                featCoords.append(newSurf)\n",
    "    XYZCoords.append(featCoords)"
   ]
  },
  {
   "cell_type": "code",
   "execution_count": 8,
   "metadata": {},
   "outputs": [],
   "source": [
    "# Kalkulasi ketinggian minimum dan maksimum di setiap bangunan\n",
    "ZMin = []\n",
    "ZMax = []\n",
    "for feat in FeatZCoords:\n",
    "    FeatZ = []\n",
    "    for surf in feat:\n",
    "        for z in surf:\n",
    "            FeatZ.append(z)\n",
    "    ZMin.append(min(FeatZ))\n",
    "    ZMax.append(max(FeatZ))"
   ]
  },
  {
   "cell_type": "code",
   "execution_count": 9,
   "metadata": {},
   "outputs": [],
   "source": [
    "# Fungsi perhitungan luas\n",
    "def PolyArea(x,y):\n",
    "    return 0.5*np.abs(np.dot(x,np.roll(y,1))-np.dot(y,np.roll(x,1)))"
   ]
  },
  {
   "cell_type": "code",
   "execution_count": 10,
   "metadata": {},
   "outputs": [],
   "source": [
    "# Klasifikasi semantik menggunakan luas bidang jika diproyeksikan ke 2D\n",
    "# dan ketinggian rata2 bidang\n",
    "OutputDict = {}\n",
    "ID = 0\n",
    "for i, feature in enumerate(XYZCoords):\n",
    "    \n",
    "    ID += 1\n",
    "    OutputDict['IDLOD2_{}'.format(ID)] = {'Ground':[],'Wall':[],'Roof':[]}\n",
    "    \n",
    "    for surface in feature:\n",
    "        \n",
    "        SurfXY = []\n",
    "        SurfZ = []\n",
    "        for coord in surface:\n",
    "            xy = (coord[0], coord[1])\n",
    "            z = (coord[2])\n",
    "            SurfXY.append(xy)\n",
    "            SurfZ.append(z)\n",
    "        x, y = map(list, zip(*SurfXY))\n",
    "        Area2D = PolyArea(x, y)\n",
    "        AvgHeight = sum(SurfZ)/len(SurfZ)\n",
    "        \n",
    "        if Area2D < 0.1:\n",
    "            OutputDict['IDLOD2_{}'.format(ID)]['Wall'].append(surface)\n",
    "        elif Area2D >= 0.1 and (ZMin[i]+2 >= AvgHeight):\n",
    "            OutputDict['IDLOD2_{}'.format(ID)]['Ground'].append(surface)\n",
    "        elif Area2D >= 0.1 and (AvgHeight > ZMin[i]+2):\n",
    "            OutputDict['IDLOD2_{}'.format(ID)]['Roof'].append(surface)"
   ]
  },
  {
   "cell_type": "code",
   "execution_count": 11,
   "metadata": {},
   "outputs": [],
   "source": [
    "# Menyimpan GroundSurface ke dalam dictionary\n",
    "groundSurfs = []\n",
    "for ID in OutputDict.keys():\n",
    "    groundSurfs.append(OutputDict[ID]['Ground'])"
   ]
  },
  {
   "cell_type": "code",
   "execution_count": 12,
   "metadata": {},
   "outputs": [],
   "source": [
    "# Menyimpan GroundSurface ke dalam GeoDataFrame\n",
    "# Diperlukan untuk proses spatial join dengan GeoDataFrame persil\n",
    "# Untuk mendapatkan informasi persil-persil yang berpotongan dengan building footprint setiap bangunan\n",
    "dfGround = gpd.GeoDataFrame(columns=['geometry'], crs='EPSG:32748')\n",
    "for i, feature in enumerate(groundSurfs):\n",
    "    dfSurface = gpd.GeoDataFrame(columns=['geometry'], crs='EPSG:32748')\n",
    "    for n, surface in enumerate(feature):\n",
    "        XY = []\n",
    "        for m, coord in enumerate(surface):\n",
    "            xycoord = (coord[0], coord[1])\n",
    "            XY.append(xycoord)\n",
    "        dfSurface.loc[n] = Polygon(XY)\n",
    "    dfSurface['constant'] = 0\n",
    "    diss = dfSurface.dissolve(by='constant')\n",
    "    dfGround.loc[i] = diss.loc[0]"
   ]
  },
  {
   "cell_type": "code",
   "execution_count": 13,
   "metadata": {},
   "outputs": [],
   "source": [
    "# Spatial join building footprint/GroundSurface dengan persil\n",
    "groundSJoin = gpd.sjoin(dfGround, persil, how=\"left\", op='intersects')"
   ]
  },
  {
   "cell_type": "code",
   "execution_count": 14,
   "metadata": {},
   "outputs": [],
   "source": [
    "# Ekstraksi NIB persil yang berpotongan pada setiap building footprint\n",
    "NIB = {}\n",
    "for i, row in groundSJoin.iterrows():\n",
    "    if i not in NIB.keys():\n",
    "        NIB[i] = [row['NIB']]\n",
    "    elif i in NIB.keys():\n",
    "        NIB[i].append(row['NIB'])"
   ]
  },
  {
   "cell_type": "code",
   "execution_count": 70,
   "metadata": {},
   "outputs": [],
   "source": [
    "# Mendefinisikan namespace CityGML\n",
    "ns_base = \"http://www.citygml.org/citygml/profiles/base/2.0\"\n",
    "ns_core = \"http://www.opengis.net/citygml/2.0\"\n",
    "ns_bldg = \"http://www.opengis.net/citygml/building/2.0\"\n",
    "ns_gen = \"http://www.opengis.net/citygml/generics/2.0\"\n",
    "ns_gml = \"http://www.opengis.net/gml\"\n",
    "ns_xAL = \"urn:oasis:names:tc:ciq:xsdschema:xAL:2.0\"\n",
    "ns_xlink = \"http://www.w3.org/1999/xlink\"\n",
    "ns_xsi = \"http://www.w3.org/2001/XMLSchema-instance\"\n",
    "ns_schemaLocation = \"http://www.citygml.org/citygml/profiles/base/2.0 http://schemas.opengis.net/citygml/profiles/base/2.0/CityGML.xsd\"\n",
    "\n",
    "nsmap = {None : ns_base, 'core': ns_core, 'bldg': ns_bldg, 'gen': ns_gen, 'gml': ns_gml, 'xAL': ns_xAL, 'xlink': ns_xlink, 'xsi': ns_xsi}"
   ]
  },
  {
   "cell_type": "code",
   "execution_count": 71,
   "metadata": {},
   "outputs": [],
   "source": [
    "# Membuat root element CityGML (CityModel)\n",
    "CityModel = etree.Element(\"{%s}CityModel\" % ns_core, nsmap=nsmap)\n",
    "CityModel.set('{%s}schemaLocation' % ns_xsi, ns_schemaLocation)"
   ]
  },
  {
   "cell_type": "code",
   "execution_count": 72,
   "metadata": {},
   "outputs": [],
   "source": [
    "# Membuat deskripsi dari file/model\n",
    "description = etree.SubElement(CityModel, '{%s}description' % ns_gml)\n",
    "description.text = 'Coblong LOD 2 Buildings'"
   ]
  },
  {
   "cell_type": "code",
   "execution_count": 73,
   "metadata": {},
   "outputs": [],
   "source": [
    "# Mendefinisikan fungsi untuk kalkulasi bounding box\n",
    "def bounding_box(bldg_feat_dict):\n",
    "    coorX = []\n",
    "    coorY = []\n",
    "    coorZ = []\n",
    "    for ID in bldg_feat_dict.keys():\n",
    "        for surface in bldg_feat_dict[ID]:\n",
    "            for coord in surface:\n",
    "                coorX.append(coord[0])\n",
    "                coorY.append(coord[1])\n",
    "                coorZ.append(coord[2])\n",
    "    lowerCorner = [min(coorX), min(coorY), min(coorZ)]\n",
    "    upperCorner = [max(coorX), max(coorY), max(coorZ)]\n",
    "    return lowerCorner, upperCorner"
   ]
  },
  {
   "cell_type": "code",
   "execution_count": 74,
   "metadata": {},
   "outputs": [],
   "source": [
    "# Kalkulasi bounding box untuk model\n",
    "xValues = []\n",
    "yValues = []\n",
    "zValues = []\n",
    "for i, ID in enumerate(OutputDict.keys()):\n",
    "    lower, upper = bounding_box(OutputDict[ID])\n",
    "    xValues.append(lower[0])\n",
    "    xValues.append(upper[0])\n",
    "    yValues.append(lower[1])\n",
    "    yValues.append(upper[1])\n",
    "    zValues.append(lower[2])\n",
    "    zValues.append(upper[2])\n",
    "        \n",
    "lower = [min(xValues), min(yValues), min(zValues)]\n",
    "upper = [max(xValues), max(yValues), max(zValues)]\n",
    "\n",
    "crs = 'EPSG:32748'\n",
    "\n",
    "BoundingBox = etree.SubElement(CityModel, '{%s}boundedBy' % ns_gml)\n",
    "Envelope = etree.SubElement(BoundingBox, '{%s}Envelope' % ns_gml, srsDimension='3')\n",
    "Envelope.set('srsName', crs)\n",
    "\n",
    "lowCorner = etree.SubElement(Envelope, '{%s}lowerCorner' % ns_gml)\n",
    "lowCorner.text = str(lower[0]) + ' ' + str(lower[1]) + ' ' + str(lower[2])\n",
    "uppCorner = etree.SubElement(Envelope, '{%s}upperCorner' % ns_gml)\n",
    "uppCorner.text = str(upper[0]) + ' ' + str(upper[1]) + ' ' + str(upper[2])"
   ]
  },
  {
   "cell_type": "code",
   "execution_count": 75,
   "metadata": {},
   "outputs": [],
   "source": [
    "# Mendefinisikan fungsi untuk menulis bidang\n",
    "def writing_surfaces(surface_geometry, surface_element_name):\n",
    "    for surface in surface_geometry:\n",
    "        surf_uuid = 'UUID_' + str(uuid.uuid4()) + '_2'\n",
    "        boundedBy = etree.SubElement(Building, '{%s}boundedBy' % ns_bldg)\n",
    "        Surface = etree.SubElement(boundedBy, surface_element_name % ns_bldg)\n",
    "        Surface.set('{%s}id' % ns_gml, surf_uuid)\n",
    "        lod2MultiSurface = etree.SubElement(Surface, '{%s}lod2MultiSurface' % ns_bldg)\n",
    "        MultiSurface = etree.SubElement(lod2MultiSurface, '{%s}MultiSurface' % ns_gml)\n",
    "        surfaceMember = etree.SubElement(MultiSurface, '{%s}surfaceMember' % ns_gml)\n",
    "        Polygon = etree.SubElement(surfaceMember, '{%s}Polygon' % ns_gml)\n",
    "        Polygon.set('{%s}id' % ns_gml, surf_uuid + '_poly')\n",
    "        exterior = etree.SubElement(Polygon, '{%s}exterior' % ns_gml)\n",
    "        LinearRing = etree.SubElement(exterior, '{%s}LinearRing' % ns_gml)\n",
    "        posList = etree.SubElement(LinearRing, '{%s}posList' % ns_gml, srsDimension='3')\n",
    "        coordinates = ''\n",
    "        copy = ''\n",
    "        for coordinate in surface:\n",
    "            coordinates = copy + str(coordinate[0]) + ' ' + str(coordinate[1]) + ' ' + str(coordinate[2]) + ' '\n",
    "            copy = coordinates\n",
    "        posList.text = coordinates[:-1]\n",
    "        solid_link = etree.SubElement(CompositeSurface, '{%s}surfaceMember' % ns_gml)\n",
    "        solid_link.set('{%s}href' % ns_xlink, '#' + surf_uuid + '_poly')"
   ]
  },
  {
   "cell_type": "code",
   "execution_count": 76,
   "metadata": {},
   "outputs": [],
   "source": [
    "# Iterasi penulisan atribut dan geometri untuk seluruh bangunan\n",
    "for i, ID in enumerate(OutputDict.keys()):\n",
    "    cityObjectMember = etree.SubElement(CityModel, '{%s}cityObjectMember' % ns_core)\n",
    "    \n",
    "    Building = etree.SubElement(cityObjectMember, '{%s}Building' % ns_bldg)\n",
    "    Building.set('{%s}id' % ns_gml, str(ID))\n",
    "    \n",
    "    FCODE = etree.SubElement(Building, '{%s}stringAttribute' % ns_gen)\n",
    "    FCODE.set('name', 'FCODE')\n",
    "    FCODEVal = etree.SubElement(FCODE, '{%s}value' % ns_gen)\n",
    "    FCODEVal.text = str(attributes[i][1])\n",
    "    \n",
    "    NAMOBJ = etree.SubElement(Building, '{%s}stringAttribute' % ns_gen)\n",
    "    NAMOBJ.set('name', 'NAMOBJ')\n",
    "    NAMOBJVal = etree.SubElement(NAMOBJ, '{%s}value' % ns_gen)\n",
    "    NAMOBJVal.text = str(attributes[i][3])\n",
    "    \n",
    "    REMARK = etree.SubElement(Building, '{%s}stringAttribute' % ns_gen)\n",
    "    REMARK.set('name', 'REMARK')\n",
    "    REMARKVal = etree.SubElement(REMARK, '{%s}value' % ns_gen)\n",
    "    REMARKVal.text = str(attributes[i][4])\n",
    "    \n",
    "    AREA = etree.SubElement(Building, '{%s}stringAttribute' % ns_gen)\n",
    "    AREA.set('name', 'AREA')\n",
    "    AREAVal = etree.SubElement(AREA, '{%s}value' % ns_gen)\n",
    "    AREAVal.text = str(attributes[i][7])\n",
    "    \n",
    "    HGROUND = etree.SubElement(Building, '{%s}stringAttribute' % ns_gen)\n",
    "    HGROUND.set('name', 'HGROUND')\n",
    "    HGROUNDVal = etree.SubElement(HGROUND, '{%s}value' % ns_gen)\n",
    "    HGROUNDVal.text = str(attributes[i][8])\n",
    "    \n",
    "    HMAX = etree.SubElement(Building, '{%s}stringAttribute' % ns_gen)\n",
    "    HMAX.set('name', 'HMAX')\n",
    "    HMAXVal = etree.SubElement(HMAX, '{%s}value' % ns_gen)\n",
    "    HMAXVal.text = str(attributes[i][9])\n",
    "    \n",
    "    HMIN = etree.SubElement(Building, '{%s}stringAttribute' % ns_gen)\n",
    "    HMIN.set('name', 'HMIN')\n",
    "    HMINVal = etree.SubElement(HMIN, '{%s}value' % ns_gen)\n",
    "    HMINVal.text = str(attributes[i][10])\n",
    "    \n",
    "    UPDATED = etree.SubElement(Building, '{%s}stringAttribute' % ns_gen)\n",
    "    UPDATED.set('name', 'UPDATED')\n",
    "    UPDATEDVal = etree.SubElement(UPDATED, '{%s}value' % ns_gen)\n",
    "    UPDATEDVal.text = str(attributes[i][16])\n",
    "    \n",
    "    NLP = etree.SubElement(Building, '{%s}stringAttribute' % ns_gen)\n",
    "    NLP.set('name', 'NLP')\n",
    "    NLPVal = etree.SubElement(NLP, '{%s}value' % ns_gen)\n",
    "    NLPVal.text = str(attributes[i][17])\n",
    "    \n",
    "    KECAMATAN = etree.SubElement(Building, '{%s}stringAttribute' % ns_gen)\n",
    "    KECAMATAN.set('name', 'KECAMATAN')\n",
    "    KECAMATANVal = etree.SubElement(KECAMATAN, '{%s}value' % ns_gen)\n",
    "    KECAMATANVal.text = str(attributes[i][18])\n",
    "    \n",
    "    NIBElem = etree.SubElement(Building, '{%s}stringAttribute' % ns_gen)\n",
    "    NIBElem.set('name', 'NIB')\n",
    "    NIBVal = etree.SubElement(NIBElem, '{%s}value' % ns_gen)\n",
    "    NIBValues = ''\n",
    "    if len(NIB[i]) != 0:\n",
    "        for code in NIB[i]:\n",
    "            NIBValues = NIBValues + str(code) + ' '\n",
    "        NIBVal.text = NIBValues[:-1]\n",
    "        \n",
    "    MeasHeight = etree.SubElement(Building, '{%s}measuredHeight' % ns_bldg)\n",
    "    MeasHeight.set('uom', 'meter')\n",
    "    MeasHeight.text = str(attributes[i][11])\n",
    "    \n",
    "    lod2Solid = etree.SubElement(Building, '{%s}lod2Solid' % ns_bldg)\n",
    "    Solid = etree.SubElement(lod2Solid, '{%s}Solid' % ns_gml)\n",
    "    exterior = etree.SubElement(Solid, '{%s}exterior' % ns_gml)\n",
    "    CompositeSurface = etree.SubElement(exterior, '{%s}CompositeSurface' % ns_gml)\n",
    "    \n",
    "    Ground = '{%s}GroundSurface'\n",
    "    Wall = '{%s}WallSurface'\n",
    "    Roof = '{%s}RoofSurface'\n",
    "    \n",
    "    for semantic in OutputDict[ID].keys():\n",
    "        if semantic == 'Ground':\n",
    "            writing_surfaces(OutputDict[ID][semantic], Ground)\n",
    "        elif semantic == 'Wall':\n",
    "            writing_surfaces(OutputDict[ID][semantic], Wall)\n",
    "        elif semantic == 'Roof':\n",
    "            writing_surfaces(OutputDict[ID][semantic], Roof)"
   ]
  },
  {
   "cell_type": "code",
   "execution_count": 77,
   "metadata": {},
   "outputs": [],
   "source": [
    "# Menuliskan model CityGML\n",
    "output_dir = '/Users/veriandi/Desktop/LOD2 Coblong (EPSG 32748) Corrected.gml'\n",
    "etree.ElementTree(CityModel).write(output_dir, xml_declaration=True, encoding='utf-8', pretty_print= True)"
   ]
  }
 ],
 "metadata": {
  "kernelspec": {
   "display_name": "Python 3",
   "language": "python",
   "name": "python3"
  },
  "language_info": {
   "codemirror_mode": {
    "name": "ipython",
    "version": 3
   },
   "file_extension": ".py",
   "mimetype": "text/x-python",
   "name": "python",
   "nbconvert_exporter": "python",
   "pygments_lexer": "ipython3",
   "version": "3.7.6"
  }
 },
 "nbformat": 4,
 "nbformat_minor": 4
}
